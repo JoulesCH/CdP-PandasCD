{
 "cells": [
  {
   "cell_type": "markdown",
   "metadata": {},
   "source": [
    "\n",
    "<img src=\"https://fotos.subefotos.com/9c8005521875be2967bafcbe78cb5acbo.png\" style = \"width: 150px; height: auto; margin-left:auto;margin-right:auto\"/>\n",
    "<img src=\"https://fotos.subefotos.com/2a13aea56c4bf96860ed297b29abc189o.png\" style = \"width: 750px; height: auto; margin-left: auto; margin-right: auto;margin-top:0 \"/>\n"
   ]
  },
  {
   "cell_type": "markdown",
   "metadata": {},
   "source": [
    "# Operaciones con Pandas\n",
    "___"
   ]
  },
  {
   "cell_type": "markdown",
   "metadata": {},
   "source": [
    "## Sesión 3 "
   ]
  },
  {
   "cell_type": "markdown",
   "metadata": {},
   "source": [
    "Cargaremos un Data Frame que brinda información histórica sobre el uso compartido de bicicletas en Londres, extraída de [kaggle](https://www.kaggle.com).\n",
    "\n",
    "**Kagle** es una comunidad de científicos de datos, podrás encontar desde Data Frames muy interesantes hasta Notebooks en Python o en R haciendo análisis de los mismos."
   ]
  },
  {
   "cell_type": "code",
   "execution_count": 1,
   "metadata": {},
   "outputs": [],
   "source": [
    "import pandas as pd"
   ]
  },
  {
   "cell_type": "code",
   "execution_count": 7,
   "metadata": {},
   "outputs": [
    {
     "data": {
      "text/html": [
       "<div>\n",
       "<style scoped>\n",
       "    .dataframe tbody tr th:only-of-type {\n",
       "        vertical-align: middle;\n",
       "    }\n",
       "\n",
       "    .dataframe tbody tr th {\n",
       "        vertical-align: top;\n",
       "    }\n",
       "\n",
       "    .dataframe thead th {\n",
       "        text-align: right;\n",
       "    }\n",
       "</style>\n",
       "<table border=\"1\" class=\"dataframe\">\n",
       "  <thead>\n",
       "    <tr style=\"text-align: right;\">\n",
       "      <th></th>\n",
       "      <th>timestamp</th>\n",
       "      <th>cnt</th>\n",
       "      <th>t1</th>\n",
       "      <th>t2</th>\n",
       "      <th>hum</th>\n",
       "      <th>wind_speed</th>\n",
       "      <th>weather_code</th>\n",
       "      <th>is_holiday</th>\n",
       "      <th>is_weekend</th>\n",
       "      <th>season</th>\n",
       "    </tr>\n",
       "  </thead>\n",
       "  <tbody>\n",
       "    <tr>\n",
       "      <th>12258</th>\n",
       "      <td>2016-05-31 15:00:00</td>\n",
       "      <td>919</td>\n",
       "      <td>13.0</td>\n",
       "      <td>13.0</td>\n",
       "      <td>88.0</td>\n",
       "      <td>21.0</td>\n",
       "      <td>4.0</td>\n",
       "      <td>0.0</td>\n",
       "      <td>0.0</td>\n",
       "      <td>0.0</td>\n",
       "    </tr>\n",
       "    <tr>\n",
       "      <th>11068</th>\n",
       "      <td>2016-04-12 01:00:00</td>\n",
       "      <td>88</td>\n",
       "      <td>10.0</td>\n",
       "      <td>8.0</td>\n",
       "      <td>88.0</td>\n",
       "      <td>12.0</td>\n",
       "      <td>7.0</td>\n",
       "      <td>0.0</td>\n",
       "      <td>0.0</td>\n",
       "      <td>0.0</td>\n",
       "    </tr>\n",
       "    <tr>\n",
       "      <th>4897</th>\n",
       "      <td>2015-07-27 16:00:00</td>\n",
       "      <td>2001</td>\n",
       "      <td>19.5</td>\n",
       "      <td>19.5</td>\n",
       "      <td>50.5</td>\n",
       "      <td>35.0</td>\n",
       "      <td>3.0</td>\n",
       "      <td>0.0</td>\n",
       "      <td>0.0</td>\n",
       "      <td>1.0</td>\n",
       "    </tr>\n",
       "    <tr>\n",
       "      <th>3988</th>\n",
       "      <td>2015-06-19 15:00:00</td>\n",
       "      <td>1802</td>\n",
       "      <td>18.5</td>\n",
       "      <td>18.5</td>\n",
       "      <td>50.5</td>\n",
       "      <td>16.0</td>\n",
       "      <td>2.0</td>\n",
       "      <td>0.0</td>\n",
       "      <td>0.0</td>\n",
       "      <td>1.0</td>\n",
       "    </tr>\n",
       "    <tr>\n",
       "      <th>12717</th>\n",
       "      <td>2016-06-19 18:00:00</td>\n",
       "      <td>2082</td>\n",
       "      <td>17.5</td>\n",
       "      <td>17.5</td>\n",
       "      <td>75.0</td>\n",
       "      <td>23.0</td>\n",
       "      <td>3.0</td>\n",
       "      <td>0.0</td>\n",
       "      <td>1.0</td>\n",
       "      <td>1.0</td>\n",
       "    </tr>\n",
       "    <tr>\n",
       "      <th>15515</th>\n",
       "      <td>2016-10-16 19:00:00</td>\n",
       "      <td>938</td>\n",
       "      <td>15.0</td>\n",
       "      <td>15.0</td>\n",
       "      <td>77.0</td>\n",
       "      <td>12.0</td>\n",
       "      <td>1.0</td>\n",
       "      <td>0.0</td>\n",
       "      <td>1.0</td>\n",
       "      <td>2.0</td>\n",
       "    </tr>\n",
       "    <tr>\n",
       "      <th>2166</th>\n",
       "      <td>2015-04-04 14:00:00</td>\n",
       "      <td>1108</td>\n",
       "      <td>8.5</td>\n",
       "      <td>5.5</td>\n",
       "      <td>68.5</td>\n",
       "      <td>19.5</td>\n",
       "      <td>3.0</td>\n",
       "      <td>0.0</td>\n",
       "      <td>1.0</td>\n",
       "      <td>0.0</td>\n",
       "    </tr>\n",
       "    <tr>\n",
       "      <th>4988</th>\n",
       "      <td>2015-07-31 11:00:00</td>\n",
       "      <td>1289</td>\n",
       "      <td>18.5</td>\n",
       "      <td>18.5</td>\n",
       "      <td>49.0</td>\n",
       "      <td>6.5</td>\n",
       "      <td>3.0</td>\n",
       "      <td>0.0</td>\n",
       "      <td>0.0</td>\n",
       "      <td>1.0</td>\n",
       "    </tr>\n",
       "    <tr>\n",
       "      <th>16632</th>\n",
       "      <td>2016-12-02 10:00:00</td>\n",
       "      <td>995</td>\n",
       "      <td>7.5</td>\n",
       "      <td>6.5</td>\n",
       "      <td>84.5</td>\n",
       "      <td>6.5</td>\n",
       "      <td>3.0</td>\n",
       "      <td>0.0</td>\n",
       "      <td>0.0</td>\n",
       "      <td>3.0</td>\n",
       "    </tr>\n",
       "    <tr>\n",
       "      <th>16668</th>\n",
       "      <td>2016-12-03 22:00:00</td>\n",
       "      <td>511</td>\n",
       "      <td>5.0</td>\n",
       "      <td>2.5</td>\n",
       "      <td>81.0</td>\n",
       "      <td>10.0</td>\n",
       "      <td>1.0</td>\n",
       "      <td>0.0</td>\n",
       "      <td>1.0</td>\n",
       "      <td>3.0</td>\n",
       "    </tr>\n",
       "  </tbody>\n",
       "</table>\n",
       "</div>"
      ],
      "text/plain": [
       "                 timestamp   cnt    t1    t2   hum  wind_speed  weather_code  \\\n",
       "12258  2016-05-31 15:00:00   919  13.0  13.0  88.0        21.0           4.0   \n",
       "11068  2016-04-12 01:00:00    88  10.0   8.0  88.0        12.0           7.0   \n",
       "4897   2015-07-27 16:00:00  2001  19.5  19.5  50.5        35.0           3.0   \n",
       "3988   2015-06-19 15:00:00  1802  18.5  18.5  50.5        16.0           2.0   \n",
       "12717  2016-06-19 18:00:00  2082  17.5  17.5  75.0        23.0           3.0   \n",
       "15515  2016-10-16 19:00:00   938  15.0  15.0  77.0        12.0           1.0   \n",
       "2166   2015-04-04 14:00:00  1108   8.5   5.5  68.5        19.5           3.0   \n",
       "4988   2015-07-31 11:00:00  1289  18.5  18.5  49.0         6.5           3.0   \n",
       "16632  2016-12-02 10:00:00   995   7.5   6.5  84.5         6.5           3.0   \n",
       "16668  2016-12-03 22:00:00   511   5.0   2.5  81.0        10.0           1.0   \n",
       "\n",
       "       is_holiday  is_weekend  season  \n",
       "12258         0.0         0.0     0.0  \n",
       "11068         0.0         0.0     0.0  \n",
       "4897          0.0         0.0     1.0  \n",
       "3988          0.0         0.0     1.0  \n",
       "12717         0.0         1.0     1.0  \n",
       "15515         0.0         1.0     2.0  \n",
       "2166          0.0         1.0     0.0  \n",
       "4988          0.0         0.0     1.0  \n",
       "16632         0.0         0.0     3.0  \n",
       "16668         0.0         1.0     3.0  "
      ]
     },
     "execution_count": 7,
     "metadata": {},
     "output_type": "execute_result"
    }
   ],
   "source": [
    "df_merged = pd.read_csv('london_merged.csv')\n",
    "df_merged.sample(10)"
   ]
  },
  {
   "cell_type": "code",
   "execution_count": 5,
   "metadata": {},
   "outputs": [
    {
     "data": {
      "text/plain": [
       "timestamp        object\n",
       "cnt               int64\n",
       "t1              float64\n",
       "t2              float64\n",
       "hum             float64\n",
       "wind_speed      float64\n",
       "weather_code    float64\n",
       "is_holiday      float64\n",
       "is_weekend      float64\n",
       "season          float64\n",
       "dtype: object"
      ]
     },
     "execution_count": 5,
     "metadata": {},
     "output_type": "execute_result"
    }
   ],
   "source": [
    "df_merged.dtypes"
   ]
  },
  {
   "cell_type": "markdown",
   "metadata": {},
   "source": [
    "Convertiremos la columna **timestamp** a tipo **datetime** para recordar"
   ]
  },
  {
   "cell_type": "code",
   "execution_count": 8,
   "metadata": {},
   "outputs": [],
   "source": [
    "df_merged['timestamp'] = pd.to_datetime(df_merged['timestamp'], format = '%Y-%m-%d %H:%M:%S')"
   ]
  },
  {
   "cell_type": "markdown",
   "metadata": {},
   "source": [
    "### Actividad 1:\n",
    "Eliminar la primera columna del Data Frame y almacenarlo en una variable llamada **df**"
   ]
  },
  {
   "cell_type": "code",
   "execution_count": null,
   "metadata": {},
   "outputs": [],
   "source": []
  },
  {
   "cell_type": "markdown",
   "metadata": {},
   "source": [
    "### Operaciones con un Data Frame"
   ]
  },
  {
   "cell_type": "markdown",
   "metadata": {},
   "source": [
    "Igual que conm las series o los vectores de numpy podemos hacer operaciones acada uno de los elementos de nuestro Data Frame:"
   ]
  },
  {
   "cell_type": "code",
   "execution_count": 11,
   "metadata": {},
   "outputs": [
    {
     "data": {
      "text/html": [
       "<div>\n",
       "<style scoped>\n",
       "    .dataframe tbody tr th:only-of-type {\n",
       "        vertical-align: middle;\n",
       "    }\n",
       "\n",
       "    .dataframe tbody tr th {\n",
       "        vertical-align: top;\n",
       "    }\n",
       "\n",
       "    .dataframe thead th {\n",
       "        text-align: right;\n",
       "    }\n",
       "</style>\n",
       "<table border=\"1\" class=\"dataframe\">\n",
       "  <thead>\n",
       "    <tr style=\"text-align: right;\">\n",
       "      <th></th>\n",
       "      <th>cnt</th>\n",
       "      <th>t1</th>\n",
       "      <th>t2</th>\n",
       "      <th>hum</th>\n",
       "      <th>wind_speed</th>\n",
       "      <th>weather_code</th>\n",
       "      <th>is_holiday</th>\n",
       "      <th>is_weekend</th>\n",
       "      <th>season</th>\n",
       "    </tr>\n",
       "  </thead>\n",
       "  <tbody>\n",
       "    <tr>\n",
       "      <th>0</th>\n",
       "      <td>33124</td>\n",
       "      <td>9.00</td>\n",
       "      <td>4.00</td>\n",
       "      <td>8649.00</td>\n",
       "      <td>36.00</td>\n",
       "      <td>9.0</td>\n",
       "      <td>0.0</td>\n",
       "      <td>1.0</td>\n",
       "      <td>9.0</td>\n",
       "    </tr>\n",
       "    <tr>\n",
       "      <th>1</th>\n",
       "      <td>19044</td>\n",
       "      <td>9.00</td>\n",
       "      <td>6.25</td>\n",
       "      <td>8649.00</td>\n",
       "      <td>25.00</td>\n",
       "      <td>1.0</td>\n",
       "      <td>0.0</td>\n",
       "      <td>1.0</td>\n",
       "      <td>9.0</td>\n",
       "    </tr>\n",
       "    <tr>\n",
       "      <th>2</th>\n",
       "      <td>17956</td>\n",
       "      <td>6.25</td>\n",
       "      <td>6.25</td>\n",
       "      <td>9312.25</td>\n",
       "      <td>0.00</td>\n",
       "      <td>1.0</td>\n",
       "      <td>0.0</td>\n",
       "      <td>1.0</td>\n",
       "      <td>9.0</td>\n",
       "    </tr>\n",
       "    <tr>\n",
       "      <th>3</th>\n",
       "      <td>5184</td>\n",
       "      <td>4.00</td>\n",
       "      <td>4.00</td>\n",
       "      <td>10000.00</td>\n",
       "      <td>0.00</td>\n",
       "      <td>1.0</td>\n",
       "      <td>0.0</td>\n",
       "      <td>1.0</td>\n",
       "      <td>9.0</td>\n",
       "    </tr>\n",
       "    <tr>\n",
       "      <th>4</th>\n",
       "      <td>2209</td>\n",
       "      <td>4.00</td>\n",
       "      <td>0.00</td>\n",
       "      <td>8649.00</td>\n",
       "      <td>42.25</td>\n",
       "      <td>1.0</td>\n",
       "      <td>0.0</td>\n",
       "      <td>1.0</td>\n",
       "      <td>9.0</td>\n",
       "    </tr>\n",
       "    <tr>\n",
       "      <th>...</th>\n",
       "      <td>...</td>\n",
       "      <td>...</td>\n",
       "      <td>...</td>\n",
       "      <td>...</td>\n",
       "      <td>...</td>\n",
       "      <td>...</td>\n",
       "      <td>...</td>\n",
       "      <td>...</td>\n",
       "      <td>...</td>\n",
       "    </tr>\n",
       "    <tr>\n",
       "      <th>17409</th>\n",
       "      <td>1085764</td>\n",
       "      <td>25.00</td>\n",
       "      <td>1.00</td>\n",
       "      <td>6561.00</td>\n",
       "      <td>361.00</td>\n",
       "      <td>9.0</td>\n",
       "      <td>0.0</td>\n",
       "      <td>0.0</td>\n",
       "      <td>9.0</td>\n",
       "    </tr>\n",
       "    <tr>\n",
       "      <th>17410</th>\n",
       "      <td>292681</td>\n",
       "      <td>25.00</td>\n",
       "      <td>1.00</td>\n",
       "      <td>6561.00</td>\n",
       "      <td>441.00</td>\n",
       "      <td>16.0</td>\n",
       "      <td>0.0</td>\n",
       "      <td>0.0</td>\n",
       "      <td>9.0</td>\n",
       "    </tr>\n",
       "    <tr>\n",
       "      <th>17411</th>\n",
       "      <td>113569</td>\n",
       "      <td>30.25</td>\n",
       "      <td>2.25</td>\n",
       "      <td>6162.25</td>\n",
       "      <td>576.00</td>\n",
       "      <td>16.0</td>\n",
       "      <td>0.0</td>\n",
       "      <td>0.0</td>\n",
       "      <td>9.0</td>\n",
       "    </tr>\n",
       "    <tr>\n",
       "      <th>17412</th>\n",
       "      <td>50176</td>\n",
       "      <td>30.25</td>\n",
       "      <td>2.25</td>\n",
       "      <td>5776.00</td>\n",
       "      <td>529.00</td>\n",
       "      <td>16.0</td>\n",
       "      <td>0.0</td>\n",
       "      <td>0.0</td>\n",
       "      <td>9.0</td>\n",
       "    </tr>\n",
       "    <tr>\n",
       "      <th>17413</th>\n",
       "      <td>19321</td>\n",
       "      <td>25.00</td>\n",
       "      <td>1.00</td>\n",
       "      <td>5776.00</td>\n",
       "      <td>484.00</td>\n",
       "      <td>4.0</td>\n",
       "      <td>0.0</td>\n",
       "      <td>0.0</td>\n",
       "      <td>9.0</td>\n",
       "    </tr>\n",
       "  </tbody>\n",
       "</table>\n",
       "<p>17414 rows × 9 columns</p>\n",
       "</div>"
      ],
      "text/plain": [
       "           cnt     t1    t2       hum  wind_speed  weather_code  is_holiday  \\\n",
       "0        33124   9.00  4.00   8649.00       36.00           9.0         0.0   \n",
       "1        19044   9.00  6.25   8649.00       25.00           1.0         0.0   \n",
       "2        17956   6.25  6.25   9312.25        0.00           1.0         0.0   \n",
       "3         5184   4.00  4.00  10000.00        0.00           1.0         0.0   \n",
       "4         2209   4.00  0.00   8649.00       42.25           1.0         0.0   \n",
       "...        ...    ...   ...       ...         ...           ...         ...   \n",
       "17409  1085764  25.00  1.00   6561.00      361.00           9.0         0.0   \n",
       "17410   292681  25.00  1.00   6561.00      441.00          16.0         0.0   \n",
       "17411   113569  30.25  2.25   6162.25      576.00          16.0         0.0   \n",
       "17412    50176  30.25  2.25   5776.00      529.00          16.0         0.0   \n",
       "17413    19321  25.00  1.00   5776.00      484.00           4.0         0.0   \n",
       "\n",
       "       is_weekend  season  \n",
       "0             1.0     9.0  \n",
       "1             1.0     9.0  \n",
       "2             1.0     9.0  \n",
       "3             1.0     9.0  \n",
       "4             1.0     9.0  \n",
       "...           ...     ...  \n",
       "17409         0.0     9.0  \n",
       "17410         0.0     9.0  \n",
       "17411         0.0     9.0  \n",
       "17412         0.0     9.0  \n",
       "17413         0.0     9.0  \n",
       "\n",
       "[17414 rows x 9 columns]"
      ]
     },
     "execution_count": 11,
     "metadata": {},
     "output_type": "execute_result"
    }
   ],
   "source": [
    "df**2"
   ]
  },
  {
   "cell_type": "code",
   "execution_count": 12,
   "metadata": {},
   "outputs": [
    {
     "data": {
      "text/plain": [
       "0         46.00\n",
       "1         35.00\n",
       "2         10.00\n",
       "3         10.00\n",
       "4         52.25\n",
       "          ...  \n",
       "17409    371.00\n",
       "17410    451.00\n",
       "17411    586.00\n",
       "17412    539.00\n",
       "17413    494.00\n",
       "Name: wind_speed, Length: 17414, dtype: float64"
      ]
     },
     "execution_count": 12,
     "metadata": {},
     "output_type": "execute_result"
    }
   ],
   "source": [
    "df['wind_speed']**2 + 10"
   ]
  },
  {
   "cell_type": "markdown",
   "metadata": {},
   "source": [
    "Podemos ocupar funciones trigonométricas desde numpy:"
   ]
  },
  {
   "cell_type": "code",
   "execution_count": 18,
   "metadata": {},
   "outputs": [],
   "source": [
    "import numpy as np"
   ]
  },
  {
   "cell_type": "code",
   "execution_count": 19,
   "metadata": {},
   "outputs": [
    {
     "data": {
      "text/plain": [
       "0        0.901788\n",
       "1       -0.428183\n",
       "2       -0.544021\n",
       "3       -0.544021\n",
       "4        0.915631\n",
       "           ...   \n",
       "17409    0.287932\n",
       "17410   -0.983582\n",
       "17411    0.995681\n",
       "17412   -0.976578\n",
       "17413   -0.696102\n",
       "Name: wind_speed, Length: 17414, dtype: float64"
      ]
     },
     "execution_count": 19,
     "metadata": {},
     "output_type": "execute_result"
    }
   ],
   "source": [
    "np.sin(df['wind_speed']**2+10)"
   ]
  },
  {
   "cell_type": "markdown",
   "metadata": {},
   "source": [
    "También podemos hacer operaciones entre series:"
   ]
  },
  {
   "cell_type": "code",
   "execution_count": 20,
   "metadata": {},
   "outputs": [
    {
     "data": {
      "text/plain": [
       "0        1.0\n",
       "1        0.5\n",
       "2        0.0\n",
       "3        0.0\n",
       "4        2.0\n",
       "        ... \n",
       "17409    4.0\n",
       "17410    4.0\n",
       "17411    4.0\n",
       "17412    4.0\n",
       "17413    4.0\n",
       "Length: 17414, dtype: float64"
      ]
     },
     "execution_count": 20,
     "metadata": {},
     "output_type": "execute_result"
    }
   ],
   "source": [
    "df['t1'] - df['t2']"
   ]
  },
  {
   "cell_type": "markdown",
   "metadata": {},
   "source": [
    "Porducto punto:"
   ]
  },
  {
   "cell_type": "code",
   "execution_count": 22,
   "metadata": {},
   "outputs": [
    {
     "data": {
      "text/plain": [
       "3247652.777777778"
      ]
     },
     "execution_count": 22,
     "metadata": {},
     "output_type": "execute_result"
    }
   ],
   "source": [
    "df['t1'].dot(df['t1'])"
   ]
  },
  {
   "cell_type": "markdown",
   "metadata": {},
   "source": [
    "### Creando nuestra propia función para aplicarla a Pandas Series"
   ]
  },
  {
   "cell_type": "markdown",
   "metadata": {},
   "source": [
    "Vamos a crear la siguiente función:\n",
    "$ f(x) = x^2 + 1$"
   ]
  },
  {
   "cell_type": "code",
   "execution_count": 24,
   "metadata": {},
   "outputs": [],
   "source": [
    "def f(x):\n",
    "    return x**2+1"
   ]
  },
  {
   "cell_type": "markdown",
   "metadata": {},
   "source": [
    "Si nosotros se la aplicamos a un número, ya sabemos que pasa:"
   ]
  },
  {
   "cell_type": "code",
   "execution_count": 25,
   "metadata": {},
   "outputs": [
    {
     "data": {
      "text/plain": [
       "2"
      ]
     },
     "execution_count": 25,
     "metadata": {},
     "output_type": "execute_result"
    }
   ],
   "source": [
    "f(1)"
   ]
  },
  {
   "cell_type": "markdown",
   "metadata": {},
   "source": [
    "Pero vamos a ver que sucede si se la aplicamos a un arreglo de Numpy"
   ]
  },
  {
   "cell_type": "code",
   "execution_count": 26,
   "metadata": {},
   "outputs": [
    {
     "data": {
      "text/plain": [
       "array([1, 2, 3, 4, 5])"
      ]
     },
     "execution_count": 26,
     "metadata": {},
     "output_type": "execute_result"
    }
   ],
   "source": [
    "np.array([1,2,3,4,5])"
   ]
  },
  {
   "cell_type": "code",
   "execution_count": 27,
   "metadata": {},
   "outputs": [
    {
     "data": {
      "text/plain": [
       "array([ 2,  5, 10, 17, 26], dtype=int32)"
      ]
     },
     "execution_count": 27,
     "metadata": {},
     "output_type": "execute_result"
    }
   ],
   "source": [
    "f(np.array([1,2,3,4,5]))"
   ]
  },
  {
   "cell_type": "markdown",
   "metadata": {},
   "source": [
    "**Ahora con una Pandas Serie**"
   ]
  },
  {
   "cell_type": "code",
   "execution_count": 29,
   "metadata": {},
   "outputs": [
    {
     "data": {
      "text/plain": [
       "0        2.0\n",
       "1        2.5\n",
       "2        2.5\n",
       "3        2.0\n",
       "4        0.0\n",
       "        ... \n",
       "17409    1.0\n",
       "17410    1.0\n",
       "17411    1.5\n",
       "17412    1.5\n",
       "17413    1.0\n",
       "Name: t2, Length: 17414, dtype: float64"
      ]
     },
     "execution_count": 29,
     "metadata": {},
     "output_type": "execute_result"
    }
   ],
   "source": [
    "df['t2']"
   ]
  },
  {
   "cell_type": "code",
   "execution_count": 30,
   "metadata": {},
   "outputs": [
    {
     "data": {
      "text/plain": [
       "0        5.00\n",
       "1        7.25\n",
       "2        7.25\n",
       "3        5.00\n",
       "4        1.00\n",
       "         ... \n",
       "17409    2.00\n",
       "17410    2.00\n",
       "17411    3.25\n",
       "17412    3.25\n",
       "17413    2.00\n",
       "Name: t2, Length: 17414, dtype: float64"
      ]
     },
     "execution_count": 30,
     "metadata": {},
     "output_type": "execute_result"
    }
   ],
   "source": [
    "df['t2'].apply(f)"
   ]
  },
  {
   "cell_type": "markdown",
   "metadata": {},
   "source": [
    "Vemos que nosotros no le pasamos el resultado de una función, le pasamos directamente la función, es decir no le pasamos **f()** sino **f**"
   ]
  },
  {
   "cell_type": "markdown",
   "metadata": {},
   "source": [
    "Algo muy práctico es utilizar las funciones lambda"
   ]
  },
  {
   "cell_type": "code",
   "execution_count": 31,
   "metadata": {},
   "outputs": [
    {
     "data": {
      "text/plain": [
       "0        5.00\n",
       "1        7.25\n",
       "2        7.25\n",
       "3        5.00\n",
       "4        1.00\n",
       "         ... \n",
       "17409    2.00\n",
       "17410    2.00\n",
       "17411    3.25\n",
       "17412    3.25\n",
       "17413    2.00\n",
       "Name: t2, Length: 17414, dtype: float64"
      ]
     },
     "execution_count": 31,
     "metadata": {},
     "output_type": "execute_result"
    }
   ],
   "source": [
    "df['t2'].apply(lambda x: x**2 + 1)"
   ]
  },
  {
   "cell_type": "markdown",
   "metadata": {},
   "source": [
    "**Funciones con el Data Frame**"
   ]
  },
  {
   "cell_type": "markdown",
   "metadata": {},
   "source": [
    "Si nosotros aplicamos el método *apply()* directamente a un DataFrame, se le aplicará a todos los elementos:"
   ]
  },
  {
   "cell_type": "code",
   "execution_count": 35,
   "metadata": {},
   "outputs": [
    {
     "data": {
      "text/html": [
       "<div>\n",
       "<style scoped>\n",
       "    .dataframe tbody tr th:only-of-type {\n",
       "        vertical-align: middle;\n",
       "    }\n",
       "\n",
       "    .dataframe tbody tr th {\n",
       "        vertical-align: top;\n",
       "    }\n",
       "\n",
       "    .dataframe thead th {\n",
       "        text-align: right;\n",
       "    }\n",
       "</style>\n",
       "<table border=\"1\" class=\"dataframe\">\n",
       "  <thead>\n",
       "    <tr style=\"text-align: right;\">\n",
       "      <th></th>\n",
       "      <th>cnt</th>\n",
       "      <th>t1</th>\n",
       "      <th>t2</th>\n",
       "      <th>hum</th>\n",
       "      <th>wind_speed</th>\n",
       "      <th>weather_code</th>\n",
       "      <th>is_holiday</th>\n",
       "      <th>is_weekend</th>\n",
       "      <th>season</th>\n",
       "    </tr>\n",
       "  </thead>\n",
       "  <tbody>\n",
       "    <tr>\n",
       "      <th>0</th>\n",
       "      <td>183</td>\n",
       "      <td>4.0</td>\n",
       "      <td>3.0</td>\n",
       "      <td>94.0</td>\n",
       "      <td>7.0</td>\n",
       "      <td>4.0</td>\n",
       "      <td>1.0</td>\n",
       "      <td>2.0</td>\n",
       "      <td>4.0</td>\n",
       "    </tr>\n",
       "    <tr>\n",
       "      <th>1</th>\n",
       "      <td>139</td>\n",
       "      <td>4.0</td>\n",
       "      <td>3.5</td>\n",
       "      <td>94.0</td>\n",
       "      <td>6.0</td>\n",
       "      <td>2.0</td>\n",
       "      <td>1.0</td>\n",
       "      <td>2.0</td>\n",
       "      <td>4.0</td>\n",
       "    </tr>\n",
       "    <tr>\n",
       "      <th>2</th>\n",
       "      <td>135</td>\n",
       "      <td>3.5</td>\n",
       "      <td>3.5</td>\n",
       "      <td>97.5</td>\n",
       "      <td>1.0</td>\n",
       "      <td>2.0</td>\n",
       "      <td>1.0</td>\n",
       "      <td>2.0</td>\n",
       "      <td>4.0</td>\n",
       "    </tr>\n",
       "    <tr>\n",
       "      <th>3</th>\n",
       "      <td>73</td>\n",
       "      <td>3.0</td>\n",
       "      <td>3.0</td>\n",
       "      <td>101.0</td>\n",
       "      <td>1.0</td>\n",
       "      <td>2.0</td>\n",
       "      <td>1.0</td>\n",
       "      <td>2.0</td>\n",
       "      <td>4.0</td>\n",
       "    </tr>\n",
       "    <tr>\n",
       "      <th>4</th>\n",
       "      <td>48</td>\n",
       "      <td>3.0</td>\n",
       "      <td>1.0</td>\n",
       "      <td>94.0</td>\n",
       "      <td>7.5</td>\n",
       "      <td>2.0</td>\n",
       "      <td>1.0</td>\n",
       "      <td>2.0</td>\n",
       "      <td>4.0</td>\n",
       "    </tr>\n",
       "    <tr>\n",
       "      <th>...</th>\n",
       "      <td>...</td>\n",
       "      <td>...</td>\n",
       "      <td>...</td>\n",
       "      <td>...</td>\n",
       "      <td>...</td>\n",
       "      <td>...</td>\n",
       "      <td>...</td>\n",
       "      <td>...</td>\n",
       "      <td>...</td>\n",
       "    </tr>\n",
       "    <tr>\n",
       "      <th>17409</th>\n",
       "      <td>1043</td>\n",
       "      <td>6.0</td>\n",
       "      <td>2.0</td>\n",
       "      <td>82.0</td>\n",
       "      <td>20.0</td>\n",
       "      <td>4.0</td>\n",
       "      <td>1.0</td>\n",
       "      <td>1.0</td>\n",
       "      <td>4.0</td>\n",
       "    </tr>\n",
       "    <tr>\n",
       "      <th>17410</th>\n",
       "      <td>542</td>\n",
       "      <td>6.0</td>\n",
       "      <td>2.0</td>\n",
       "      <td>82.0</td>\n",
       "      <td>22.0</td>\n",
       "      <td>5.0</td>\n",
       "      <td>1.0</td>\n",
       "      <td>1.0</td>\n",
       "      <td>4.0</td>\n",
       "    </tr>\n",
       "    <tr>\n",
       "      <th>17411</th>\n",
       "      <td>338</td>\n",
       "      <td>6.5</td>\n",
       "      <td>2.5</td>\n",
       "      <td>79.5</td>\n",
       "      <td>25.0</td>\n",
       "      <td>5.0</td>\n",
       "      <td>1.0</td>\n",
       "      <td>1.0</td>\n",
       "      <td>4.0</td>\n",
       "    </tr>\n",
       "    <tr>\n",
       "      <th>17412</th>\n",
       "      <td>225</td>\n",
       "      <td>6.5</td>\n",
       "      <td>2.5</td>\n",
       "      <td>77.0</td>\n",
       "      <td>24.0</td>\n",
       "      <td>5.0</td>\n",
       "      <td>1.0</td>\n",
       "      <td>1.0</td>\n",
       "      <td>4.0</td>\n",
       "    </tr>\n",
       "    <tr>\n",
       "      <th>17413</th>\n",
       "      <td>140</td>\n",
       "      <td>6.0</td>\n",
       "      <td>2.0</td>\n",
       "      <td>77.0</td>\n",
       "      <td>23.0</td>\n",
       "      <td>3.0</td>\n",
       "      <td>1.0</td>\n",
       "      <td>1.0</td>\n",
       "      <td>4.0</td>\n",
       "    </tr>\n",
       "  </tbody>\n",
       "</table>\n",
       "<p>17414 rows × 9 columns</p>\n",
       "</div>"
      ],
      "text/plain": [
       "        cnt   t1   t2    hum  wind_speed  weather_code  is_holiday  \\\n",
       "0       183  4.0  3.0   94.0         7.0           4.0         1.0   \n",
       "1       139  4.0  3.5   94.0         6.0           2.0         1.0   \n",
       "2       135  3.5  3.5   97.5         1.0           2.0         1.0   \n",
       "3        73  3.0  3.0  101.0         1.0           2.0         1.0   \n",
       "4        48  3.0  1.0   94.0         7.5           2.0         1.0   \n",
       "...     ...  ...  ...    ...         ...           ...         ...   \n",
       "17409  1043  6.0  2.0   82.0        20.0           4.0         1.0   \n",
       "17410   542  6.0  2.0   82.0        22.0           5.0         1.0   \n",
       "17411   338  6.5  2.5   79.5        25.0           5.0         1.0   \n",
       "17412   225  6.5  2.5   77.0        24.0           5.0         1.0   \n",
       "17413   140  6.0  2.0   77.0        23.0           3.0         1.0   \n",
       "\n",
       "       is_weekend  season  \n",
       "0             2.0     4.0  \n",
       "1             2.0     4.0  \n",
       "2             2.0     4.0  \n",
       "3             2.0     4.0  \n",
       "4             2.0     4.0  \n",
       "...           ...     ...  \n",
       "17409         1.0     4.0  \n",
       "17410         1.0     4.0  \n",
       "17411         1.0     4.0  \n",
       "17412         1.0     4.0  \n",
       "17413         1.0     4.0  \n",
       "\n",
       "[17414 rows x 9 columns]"
      ]
     },
     "execution_count": 35,
     "metadata": {},
     "output_type": "execute_result"
    }
   ],
   "source": [
    "df.apply(lambda x: x + 1)"
   ]
  },
  {
   "cell_type": "markdown",
   "metadata": {},
   "source": [
    "Pero si nosotros utilizamos funciones de medidas de tendencia central, se le aplicará por columnas"
   ]
  },
  {
   "cell_type": "code",
   "execution_count": 37,
   "metadata": {},
   "outputs": [
    {
     "data": {
      "text/plain": [
       "cnt             1143.101642\n",
       "t1                12.468091\n",
       "t2                11.520836\n",
       "hum               72.324954\n",
       "wind_speed        15.913063\n",
       "weather_code       2.722752\n",
       "is_holiday         0.022051\n",
       "is_weekend         0.285403\n",
       "season             1.492075\n",
       "dtype: float64"
      ]
     },
     "execution_count": 37,
     "metadata": {},
     "output_type": "execute_result"
    }
   ],
   "source": [
    "df.apply(lambda x: x.mean())"
   ]
  },
  {
   "cell_type": "code",
   "execution_count": 41,
   "metadata": {},
   "outputs": [
    {
     "data": {
      "text/plain": [
       "cnt             1085.108068\n",
       "t1                 5.571818\n",
       "t2                 6.615145\n",
       "hum               14.313186\n",
       "wind_speed         7.894570\n",
       "weather_code       2.341163\n",
       "is_holiday         0.146854\n",
       "is_weekend         0.451619\n",
       "season             1.118911\n",
       "dtype: float64"
      ]
     },
     "execution_count": 41,
     "metadata": {},
     "output_type": "execute_result"
    }
   ],
   "source": [
    "df.apply(lambda x: x.std())"
   ]
  },
  {
   "cell_type": "markdown",
   "metadata": {},
   "source": [
    "Si nosotros quisieramos cálcular esa función por fila agregamos el parámetro **axis**"
   ]
  },
  {
   "cell_type": "code",
   "execution_count": 42,
   "metadata": {},
   "outputs": [
    {
     "data": {
      "text/plain": [
       "0         32.555556\n",
       "1         27.388889\n",
       "2         26.722222\n",
       "3         20.111111\n",
       "4         17.055556\n",
       "            ...    \n",
       "17409    128.222222\n",
       "17410     72.888889\n",
       "17411     50.388889\n",
       "17412     37.444444\n",
       "17413     27.555556\n",
       "Length: 17414, dtype: float64"
      ]
     },
     "execution_count": 42,
     "metadata": {},
     "output_type": "execute_result"
    }
   ],
   "source": [
    "df.apply(lambda x: x.mean(), axis = 1)"
   ]
  },
  {
   "cell_type": "markdown",
   "metadata": {},
   "source": [
    "Podemos hacer operaciones entre columnas del Data Frame"
   ]
  },
  {
   "cell_type": "code",
   "execution_count": 43,
   "metadata": {},
   "outputs": [
    {
     "data": {
      "text/plain": [
       "0        1.0\n",
       "1        0.5\n",
       "2        0.0\n",
       "3        0.0\n",
       "4        2.0\n",
       "        ... \n",
       "17409    4.0\n",
       "17410    4.0\n",
       "17411    4.0\n",
       "17412    4.0\n",
       "17413    4.0\n",
       "Length: 17414, dtype: float64"
      ]
     },
     "execution_count": 43,
     "metadata": {},
     "output_type": "execute_result"
    }
   ],
   "source": [
    "df.apply(lambda x:  x['t1'] - x['t2'],axis = 1)"
   ]
  }
 ],
 "metadata": {
  "kernelspec": {
   "display_name": "Python 3",
   "language": "python",
   "name": "python3"
  },
  "language_info": {
   "codemirror_mode": {
    "name": "ipython",
    "version": 3
   },
   "file_extension": ".py",
   "mimetype": "text/x-python",
   "name": "python",
   "nbconvert_exporter": "python",
   "pygments_lexer": "ipython3",
   "version": "3.8.3"
  }
 },
 "nbformat": 4,
 "nbformat_minor": 4
}
